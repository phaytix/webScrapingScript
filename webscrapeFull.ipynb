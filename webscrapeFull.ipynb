{
 "cells": [
  {
   "cell_type": "markdown",
   "id": "89ee3ffc",
   "metadata": {},
   "source": [
    "# Import modules"
   ]
  },
  {
   "cell_type": "code",
   "execution_count": 1,
   "id": "7ca80696",
   "metadata": {},
   "outputs": [],
   "source": [
    "import urllib.request\n",
    "from bs4 import BeautifulSoup\n",
    "import requests\n",
    "import pandas as pd\n",
    "import numpy as np"
   ]
  },
  {
   "cell_type": "markdown",
   "id": "7942307f",
   "metadata": {},
   "source": [
    "# Extract and store function names and usage"
   ]
  },
  {
   "cell_type": "code",
   "execution_count": 7,
   "id": "dce4834f",
   "metadata": {},
   "outputs": [],
   "source": [
    "# get html code from url\n",
    "url = urllib.request.urlopen(\"\") # paste url of site you want to scrape\n",
    "soup = BeautifulSoup(url)\n",
    "\n",
    "# find all the function names\n",
    "names = soup.body.findAll('dt')\n",
    "function_names = requests.findall('id=\"random.\\w+', str(names))\n",
    "function_names = [item[4:] for item in function_names]\n",
    "\n",
    "# find all function descriptions\n",
    "description = soup.body.findAll('dd')\n",
    "function_usage = []\n",
    "\n",
    "\n",
    "for item in description:\n",
    "    item = item.text\n",
    "    item = item.replace('\\n', ' ')\n",
    "    function_usage.append(item)\n",
    "\n",
    "print('list of function names:',function_names[:5])\n",
    "print('\\nfunction description:', function_usage[0])\n",
    "print('\\nnumber of items in function names:', len(function_names))\n",
    "print('number of items in function description:', len(function_usage))"
   ]
  },
  {
   "cell_type": "markdown",
   "id": "bccbde56",
   "metadata": {},
   "source": [
    "# Store data inside pandas data frame"
   ]
  },
  {
   "cell_type": "code",
   "execution_count": null,
   "id": "5b21078a",
   "metadata": {},
   "outputs": [],
   "source": [
    "# create a dataframe\n",
    "data = pd.DataFrame({'function name': function_names, 'function usage': function_usage})\n",
    "data.head()"
   ]
  },
  {
   "cell_type": "markdown",
   "id": "67157856",
   "metadata": {},
   "source": [
    "# Save data into a csv file"
   ]
  },
  {
   "cell_type": "code",
   "execution_count": null,
   "id": "eae285c8",
   "metadata": {},
   "outputs": [],
   "source": [
    "data.to_csv('') # name your file"
   ]
  },
  {
   "cell_type": "markdown",
   "id": "27367626",
   "metadata": {},
   "source": [
    "# View data in pandas dataframe"
   ]
  },
  {
   "cell_type": "code",
   "execution_count": null,
   "id": "1a276c20",
   "metadata": {},
   "outputs": [],
   "source": [
    "# display the total number of columns present in the dataset\n",
    "pd.set_option('display.max_columns', None)"
   ]
  },
  {
   "cell_type": "code",
   "execution_count": null,
   "id": "81360bae",
   "metadata": {},
   "outputs": [],
   "source": [
    "# load your dataset\n",
    "data = pd.read_csv('') # paste name of file you want to view\n",
    "\n",
    "# inspect first 5 rows and print data shape\n",
    "print(data.shape)\n",
    "data.head()"
   ]
  },
  {
   "cell_type": "markdown",
   "id": "d738e8e0",
   "metadata": {},
   "source": [
    "# Look for missing values"
   ]
  },
  {
   "cell_type": "code",
   "execution_count": null,
   "id": "ef39aa72",
   "metadata": {},
   "outputs": [],
   "source": [
    "# we can use the isnull method along with the sum method on the dataframe\n",
    "data.isnull().sum()"
   ]
  },
  {
   "cell_type": "code",
   "execution_count": null,
   "id": "c52d804b",
   "metadata": {},
   "outputs": [],
   "source": [
    "# we can use the isnulll method with the mean method to visualize missing values for each variable\n",
    "\n",
    "data.isnull().mean()"
   ]
  }
 ],
 "metadata": {
  "kernelspec": {
   "display_name": "Python 3 (ipykernel)",
   "language": "python",
   "name": "python3"
  },
  "language_info": {
   "codemirror_mode": {
    "name": "ipython",
    "version": 3
   },
   "file_extension": ".py",
   "mimetype": "text/x-python",
   "name": "python",
   "nbconvert_exporter": "python",
   "pygments_lexer": "ipython3",
   "version": "3.9.7"
  }
 },
 "nbformat": 4,
 "nbformat_minor": 5
}
